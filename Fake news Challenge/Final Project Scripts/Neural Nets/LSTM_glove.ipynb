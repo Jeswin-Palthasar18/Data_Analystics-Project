{
  "nbformat": 4,
  "nbformat_minor": 0,
  "metadata": {
    "colab": {
      "name": "Copy of LSTM_glove_p",
      "provenance": [],
      "collapsed_sections": []
    },
    "kernelspec": {
      "name": "python3",
      "display_name": "Python 3"
    }
  },
  "cells": [
    {
      "cell_type": "code",
      "metadata": {
        "id": "bfA15bWrpL2C",
        "colab_type": "code",
        "colab": {}
      },
      "source": [
        "import gensim\n",
        "import keras\n",
        "import numpy as np\n",
        "import pandas as pd\n",
        "import pickle\n",
        "import warnings\n",
        "warnings.filterwarnings(\"ignore\")\n",
        "\n",
        "\n",
        "from sklearn.model_selection import train_test_split\n",
        "from keras.models import Sequential\n",
        "from keras.layers import Input, Dense, LSTM, Embedding, Dropout, BatchNormalization, Activation, Bidirectional\n",
        "from keras.preprocessing.text import text_to_word_sequence, Tokenizer\n",
        "from keras.preprocessing.sequence import pad_sequences\n",
        "\n",
        "\n",
        "import matplotlib as mpl\n",
        "%matplotlib inline\n",
        "from matplotlib import pyplot as plt\n",
        "from keras.utils import plot_model \n",
        "from IPython.display import Image\n",
        "from gensim.scripts.glove2word2vec import glove2word2vec\n",
        "from sklearn.preprocessing import LabelEncoder\n",
        "\n",
        "\n",
        "\n",
        "np.random.seed(1003)"
      ],
      "execution_count": null,
      "outputs": []
    },
    {
      "cell_type": "code",
      "metadata": {
        "id": "P_5TPWcwp1Yr",
        "colab_type": "code",
        "colab": {}
      },
      "source": [
        "W2V_DIR = 'https://s3.amazonaws.com/dl4j-distribution/GoogleNews-vectors-negative300.bin.gz'\n",
        "DATA_DIR = ''\n",
        "Glove = 'glove.6B.100d.txt'\n",
        "\n",
        "# These are some hyperparameters that can be tuned\n",
        "MAX_SENT_LEN = 170\n",
        "MAX_VOCAB_SIZE = 400000\n",
        "LSTM_DIM = 128\n",
        "EMBEDDING_DIM = 100\n",
        "BATCH_SIZE = 200\n",
        "N_EPOCHS = 10"
      ],
      "execution_count": null,
      "outputs": []
    },
    {
      "cell_type": "code",
      "metadata": {
        "id": "3G2ddghtqByf",
        "colab_type": "code",
        "colab": {}
      },
      "source": [
        "train_bodies = pd.read_csv(DATA_DIR+'train_bodies.csv')\n",
        "train_stances = pd.read_csv(DATA_DIR+'train_stances.csv')\n",
        "\n",
        "test_bodies = pd.read_csv(DATA_DIR+'test_bodies.csv')\n",
        "test_stances_unlabeled = pd.read_csv(DATA_DIR+'test_stances_unlabeled.csv')"
      ],
      "execution_count": null,
      "outputs": []
    },
    {
      "cell_type": "code",
      "metadata": {
        "id": "Eai0k018qPwF",
        "colab_type": "code",
        "colab": {}
      },
      "source": [
        "train = train_stances.join(train_bodies.set_index('Body ID'), on='Body ID')\n",
        "test = test_stances_unlabeled.join(test_bodies.set_index('Body ID'), on='Body ID')"
      ],
      "execution_count": null,
      "outputs": []
    },
    {
      "cell_type": "code",
      "metadata": {
        "id": "9uvg0bL4qTgs",
        "colab_type": "code",
        "colab": {}
      },
      "source": [
        "train.replace('unrelated',1,True)\n",
        "train.replace('agree',2,True)\n",
        "train.replace('disagree',3,True)\n",
        "train.replace('discuss',4,True)"
      ],
      "execution_count": null,
      "outputs": []
    },
    {
      "cell_type": "code",
      "metadata": {
        "id": "JoKVdcwoqV3m",
        "colab_type": "code",
        "colab": {}
      },
      "source": [
        "word_seq_headline_train = [text_to_word_sequence(sent) for sent in train['Headline']]\n",
        "word_seq_bodies_train = [text_to_word_sequence(sent) for sent in train['articleBody']]\n",
        "\n",
        "word_seq_headline_test = [text_to_word_sequence(sent) for sent in test['Headline']]\n",
        "word_seq_bodies_test = [text_to_word_sequence(sent) for sent in test['articleBody']]"
      ],
      "execution_count": null,
      "outputs": []
    },
    {
      "cell_type": "code",
      "metadata": {
        "id": "olWALbv1qetn",
        "colab_type": "code",
        "colab": {}
      },
      "source": [
        "word_seq = []\n",
        "for i in range(len(word_seq_headline_train)):\n",
        "  word_seq.append(word_seq_headline_train[i])\n",
        "  \n",
        "for i in range(len(word_seq_bodies_train)):\n",
        "  word_seq.append(word_seq_bodies_train[i])\n",
        "\n",
        "for i in range(len(word_seq_headline_test)):\n",
        "  word_seq.append(word_seq_headline_test[i])\n",
        "\n",
        "for i in range(len(word_seq_bodies_test)):\n",
        "  word_seq.append(word_seq_bodies_test[i])"
      ],
      "execution_count": null,
      "outputs": []
    },
    {
      "cell_type": "code",
      "metadata": {
        "id": "QEA86DdvqjZI",
        "colab_type": "code",
        "colab": {}
      },
      "source": [
        "for i in range (len(word_seq_headline_train)):\n",
        "  word_seq_headline_train[i].extend(word_seq_bodies_train[i])\n",
        "\n",
        "  \n",
        "for i in range (len(word_seq_headline_test)):\n",
        "  word_seq_headline_test[i].extend(word_seq_bodies_test[i])"
      ],
      "execution_count": null,
      "outputs": []
    },
    {
      "cell_type": "code",
      "metadata": {
        "id": "XzgMnX99qm8V",
        "colab_type": "code",
        "colab": {}
      },
      "source": [
        "tokenizer = Tokenizer(num_words=MAX_VOCAB_SIZE)\n",
        "tokenizer.fit_on_texts([' '.join(seq[:MAX_SENT_LEN]) for seq in word_seq])"
      ],
      "execution_count": null,
      "outputs": []
    },
    {
      "cell_type": "code",
      "metadata": {
        "id": "GfDi_Ir4qrMe",
        "colab_type": "code",
        "colab": {}
      },
      "source": [
        "# Convert the sequence of words to sequnce of indices\n",
        "X_train = tokenizer.texts_to_sequences([' '.join(seq[:MAX_SENT_LEN]) for seq in word_seq_headline_train])\n",
        "X_train = pad_sequences(X_train, maxlen=MAX_SENT_LEN, padding='post', truncating='post')\n",
        "y_train = train['Stance']\n",
        "y_train = y_train.values\n"
      ],
      "execution_count": null,
      "outputs": []
    },
    {
      "cell_type": "code",
      "metadata": {
        "id": "PsYV4QWHquLS",
        "colab_type": "code",
        "colab": {}
      },
      "source": [
        "from keras.utils import np_utils\n",
        "\n",
        "encoder_train = LabelEncoder()\n",
        "encoder_train.fit(y_train)\n",
        "encoded_train = encoder_train.transform(y_train)\n",
        "# convert integers to dummy variables (i.e. one hot encoded)\n",
        "dummy_y_train = np_utils.to_categorical(encoded_train)"
      ],
      "execution_count": null,
      "outputs": []
    },
    {
      "cell_type": "code",
      "metadata": {
        "id": "wG-Q5zXvqwvV",
        "colab_type": "code",
        "colab": {}
      },
      "source": [
        "X_train, X_val, y_train, y_val = train_test_split(X_train, dummy_y_train, random_state=10, test_size=0.1)\n"
      ],
      "execution_count": null,
      "outputs": []
    },
    {
      "cell_type": "code",
      "metadata": {
        "id": "nPBaB6Plq0NY",
        "colab_type": "code",
        "colab": {}
      },
      "source": [
        "from gensim.scripts.glove2word2vec import glove2word2vec\n",
        "glove2word2vec(glove_input_file=\"glove.6B.100d.txt\", word2vec_output_file=\"gensim_glove_vectors.txt\")\n",
        "\n",
        "embeddings = gensim.models.KeyedVectors.load_word2vec_format(\"gensim_glove_vectors.txt\", binary=False)\n",
        "\n",
        "embeddings_matrix = np.random.uniform(-0.05, 0.05, size=(len(tokenizer.word_index)+1, EMBEDDING_DIM)) # +1 is because the matrix indices start with 0\n",
        "\n",
        "for word, i in tokenizer.word_index.items(): # i=0 is the embedding for the zero padding\n",
        "    try:\n",
        "        embeddings_vector = embeddings[word]\n",
        "    except KeyError:\n",
        "        embeddings_vector = None\n",
        "    if embeddings_vector is not None:\n",
        "        embeddings_matrix[i] = embeddings_vector\n",
        "        \n",
        "del embeddings"
      ],
      "execution_count": null,
      "outputs": []
    },
    {
      "cell_type": "code",
      "metadata": {
        "id": "XVnyoDHhq96v",
        "colab_type": "code",
        "colab": {
          "base_uri": "https://localhost:8080/",
          "height": 302
        },
        "outputId": "b2af99f5-d45e-432c-8ace-e6b4a5c84419"
      },
      "source": [
        "\n",
        "# Build a sequential model by stacking neural net units \n",
        "model = Sequential()\n",
        "model.add(Embedding(input_dim=len(tokenizer.word_index)+1,\n",
        "                          output_dim=EMBEDDING_DIM,\n",
        "                          weights = [embeddings_matrix], trainable=False, name='word_embedding_layer' \n",
        "                          ))\n",
        "model.add(LSTM(LSTM_DIM, return_sequences=False, name='lstm_layer'))\n",
        "model.add(Dropout(rate=0.5, name='dropout_1')) # Can try varying dropout rates, in paper suggest 0.8\n",
        "model.add(Dense(4, activation='softmax', name='output_layer'))\n",
        "print (model.summary())"
      ],
      "execution_count": null,
      "outputs": [
        {
          "output_type": "stream",
          "text": [
            "Model: \"sequential_1\"\n",
            "_________________________________________________________________\n",
            "Layer (type)                 Output Shape              Param #   \n",
            "=================================================================\n",
            "word_embedding_layer (Embedd (None, None, 100)         2238100   \n",
            "_________________________________________________________________\n",
            "lstm_layer (LSTM)            (None, 128)               117248    \n",
            "_________________________________________________________________\n",
            "dropout_1 (Dropout)          (None, 128)               0         \n",
            "_________________________________________________________________\n",
            "output_layer (Dense)         (None, 4)                 516       \n",
            "=================================================================\n",
            "Total params: 2,355,864\n",
            "Trainable params: 117,764\n",
            "Non-trainable params: 2,238,100\n",
            "_________________________________________________________________\n",
            "None\n"
          ],
          "name": "stdout"
        }
      ]
    },
    {
      "cell_type": "code",
      "metadata": {
        "id": "-2qsgPW6rM8v",
        "colab_type": "code",
        "colab": {}
      },
      "source": [
        "model.compile(loss='categorical_crossentropy',\n",
        "              optimizer='adam',\n",
        "              metrics=['accuracy'])"
      ],
      "execution_count": null,
      "outputs": []
    },
    {
      "cell_type": "code",
      "metadata": {
        "id": "vqeaxudGH2Ij",
        "colab_type": "code",
        "colab": {
          "base_uri": "https://localhost:8080/",
          "height": 466
        },
        "outputId": "48f7cebf-d52c-4643-d199-e23fe1bf0216"
      },
      "source": [
        "keras.utils.plot_model(model, show_shapes=False)\n"
      ],
      "execution_count": null,
      "outputs": [
        {
          "output_type": "execute_result",
          "data": {
            "image/png": "[encoded data removed]",
            "text/plain": [
              "<IPython.core.display.Image object>"
            ]
          },
          "metadata": {
            "tags": []
          },
          "execution_count": 17
        }
      ]
    },
    {
      "cell_type": "code",
      "metadata": {
        "id": "8pnu0qUOrQev",
        "colab_type": "code",
        "colab": {
          "base_uri": "https://localhost:8080/",
          "height": 706
        },
        "outputId": "887649ea-9a62-4c42-ef06-2ae8f17d77ac"
      },
      "source": [
        "history = model.fit(X_train, y_train,\n",
        "          batch_size=100,\n",
        "          epochs=20,\n",
        "          validation_data=(X_val, y_val))"
      ],
      "execution_count": null,
      "outputs": [
        {
          "output_type": "stream",
          "text": [
            "Train on 44974 samples, validate on 4998 samples\n",
            "Epoch 1/20\n",
            "44974/44974 [==============================] - 248s 6ms/step - loss: 0.7997 - accuracy: 0.7290 - val_loss: 0.7799 - val_accuracy: 0.7291\n",
            "Epoch 2/20\n",
            "44974/44974 [==============================] - 249s 6ms/step - loss: 0.7552 - accuracy: 0.7326 - val_loss: 0.7283 - val_accuracy: 0.7345\n",
            "Epoch 3/20\n",
            "44974/44974 [==============================] - 249s 6ms/step - loss: 0.7007 - accuracy: 0.7461 - val_loss: 0.6627 - val_accuracy: 0.7471\n",
            "Epoch 4/20\n",
            "44974/44974 [==============================] - 239s 5ms/step - loss: 0.6061 - accuracy: 0.7769 - val_loss: 0.5740 - val_accuracy: 0.7829\n",
            "Epoch 5/20\n",
            "44974/44974 [==============================] - 242s 5ms/step - loss: 0.5416 - accuracy: 0.7967 - val_loss: 0.5313 - val_accuracy: 0.7953\n",
            "Epoch 6/20\n",
            "44974/44974 [==============================] - 240s 5ms/step - loss: 0.4888 - accuracy: 0.8189 - val_loss: 0.4848 - val_accuracy: 0.8145\n",
            "Epoch 7/20\n",
            "44974/44974 [==============================] - 239s 5ms/step - loss: 0.4434 - accuracy: 0.8348 - val_loss: 0.4326 - val_accuracy: 0.8369\n",
            "Epoch 8/20\n",
            "44974/44974 [==============================] - 242s 5ms/step - loss: 0.3997 - accuracy: 0.8518 - val_loss: 0.4051 - val_accuracy: 0.8451\n",
            "Epoch 9/20\n",
            "44974/44974 [==============================] - 239s 5ms/step - loss: 0.4102 - accuracy: 0.8478 - val_loss: 0.3990 - val_accuracy: 0.8471\n",
            "Epoch 10/20\n",
            "44974/44974 [==============================] - 242s 5ms/step - loss: 0.3513 - accuracy: 0.8697 - val_loss: 0.3748 - val_accuracy: 0.8547\n",
            "Epoch 11/20\n",
            "44974/44974 [==============================] - 238s 5ms/step - loss: 0.3142 - accuracy: 0.8844 - val_loss: 0.3367 - val_accuracy: 0.8687\n",
            "Epoch 12/20\n",
            "44974/44974 [==============================] - 239s 5ms/step - loss: 0.3544 - accuracy: 0.8669 - val_loss: 0.4121 - val_accuracy: 0.8411\n",
            "Epoch 13/20\n",
            "44974/44974 [==============================] - 242s 5ms/step - loss: 0.3086 - accuracy: 0.8857 - val_loss: 0.3327 - val_accuracy: 0.8772\n",
            "Epoch 14/20\n",
            "44974/44974 [==============================] - 241s 5ms/step - loss: 0.2660 - accuracy: 0.8999 - val_loss: 0.3029 - val_accuracy: 0.8846\n",
            "Epoch 15/20\n",
            "44974/44974 [==============================] - 242s 5ms/step - loss: 0.2460 - accuracy: 0.9073 - val_loss: 0.2995 - val_accuracy: 0.8888\n",
            "Epoch 16/20\n",
            "44974/44974 [==============================] - 239s 5ms/step - loss: 0.2393 - accuracy: 0.9099 - val_loss: 0.3012 - val_accuracy: 0.8832\n",
            "Epoch 17/20\n",
            "44974/44974 [==============================] - 236s 5ms/step - loss: 0.2215 - accuracy: 0.9149 - val_loss: 0.3092 - val_accuracy: 0.8860\n",
            "Epoch 18/20\n",
            "44974/44974 [==============================] - 242s 5ms/step - loss: 0.2124 - accuracy: 0.9196 - val_loss: 0.2824 - val_accuracy: 0.8954\n",
            "Epoch 19/20\n",
            "44974/44974 [==============================] - 243s 5ms/step - loss: 0.2018 - accuracy: 0.9222 - val_loss: 0.2791 - val_accuracy: 0.9010\n",
            "Epoch 20/20\n",
            "44974/44974 [==============================] - 249s 6ms/step - loss: 0.1944 - accuracy: 0.9253 - val_loss: 0.2625 - val_accuracy: 0.9074\n"
          ],
          "name": "stdout"
        }
      ]
    },
    {
      "cell_type": "code",
      "metadata": {
        "id": "LGD0mvQD6Cwl",
        "colab_type": "code",
        "colab": {}
      },
      "source": [
        "with open('LSTM_glove', 'wb') as file_pi:\n",
        "        pickle.dump(history.history, file_pi)"
      ],
      "execution_count": null,
      "outputs": []
    },
    {
      "cell_type": "code",
      "metadata": {
        "id": "W8ZGSVVtzEB0",
        "colab_type": "code",
        "colab": {
          "base_uri": "https://localhost:8080/",
          "height": 295
        },
        "outputId": "f3609d3d-d643-4303-da37-3fc7302c3cc6"
      },
      "source": [
        "plt.plot(history.history['accuracy'])\n",
        "plt.plot(history.history['val_accuracy'])\n",
        "plt.title('model accuracy')\n",
        "plt.ylabel('accuracy')\n",
        "plt.xlabel('epoch')\n",
        "plt.legend(['train', 'val'], loc='upper left')\n",
        "plt.show()"
      ],
      "execution_count": null,
      "outputs": [
        {
          "output_type": "display_data",
          "data": {
            "image/png": "[encoded data removed]",
            "text/plain": [
              "<Figure size 432x288 with 1 Axes>"
            ]
          },
          "metadata": {
            "tags": [],
            "needs_background": "light"
          }
        }
      ]
    },
    {
      "cell_type": "code",
      "metadata": {
        "id": "1pwIzN5rEKgD",
        "colab_type": "code",
        "colab": {}
      },
      "source": [
        "from keras.models import load_model\n",
        "\n",
        "model.save('BILSTM_W2V.h5')"
      ],
      "execution_count": null,
      "outputs": []
    },
    {
      "cell_type": "code",
      "metadata": {
        "id": "TLVM8E90nVye",
        "colab_type": "code",
        "colab": {}
      },
      "source": [
        "competetion_bodies = pd.read_csv(DATA_DIR+'competition_test_bodies.csv')\n",
        "competetion_stances = pd.read_csv(DATA_DIR+'competition_test_stances.csv')\n",
        "\n",
        "competetion_unlabeled = pd.read_csv(DATA_DIR+'competition_test_stances_unlabeled.csv')\n",
        "\n",
        "comp = competetion_stances.join(competetion_bodies.set_index('Body ID'), on='Body ID')"
      ],
      "execution_count": null,
      "outputs": []
    },
    {
      "cell_type": "code",
      "metadata": {
        "id": "8Jw-AsmAncO5",
        "colab_type": "code",
        "colab": {}
      },
      "source": [
        "comp.replace('unrelated',1,True)\n",
        "comp.replace('agree',2,True)\n",
        "comp.replace('disagree',3,True)\n",
        "comp.replace('discuss',4,True)"
      ],
      "execution_count": null,
      "outputs": []
    },
    {
      "cell_type": "code",
      "metadata": {
        "id": "OqYfr3S1nhou",
        "colab_type": "code",
        "colab": {}
      },
      "source": [
        "word_seq_headline_comp = [text_to_word_sequence(sent) for sent in comp['Headline']]\n",
        "word_seq_bodies_comp = [text_to_word_sequence(sent) for sent in comp['articleBody']]"
      ],
      "execution_count": null,
      "outputs": []
    },
    {
      "cell_type": "code",
      "metadata": {
        "id": "Jhj8PCl1njzm",
        "colab_type": "code",
        "colab": {}
      },
      "source": [
        "for i in range (len(word_seq_headline_comp)):\n",
        "  word_seq_headline_comp[i].extend(word_seq_bodies_comp[i])"
      ],
      "execution_count": null,
      "outputs": []
    },
    {
      "cell_type": "code",
      "metadata": {
        "id": "RF2d2RI3nlyQ",
        "colab_type": "code",
        "colab": {}
      },
      "source": [
        "tokenizer = Tokenizer(num_words=MAX_VOCAB_SIZE)\n",
        "tokenizer.fit_on_texts([' '.join(seq[:MAX_SENT_LEN]) for seq in word_seq_headline_comp])"
      ],
      "execution_count": null,
      "outputs": []
    },
    {
      "cell_type": "code",
      "metadata": {
        "id": "UZeO0JsRnnlh",
        "colab_type": "code",
        "colab": {}
      },
      "source": [
        "X_comp = tokenizer.texts_to_sequences([' '.join(seq[:MAX_SENT_LEN]) for seq in word_seq_headline_comp])\n",
        "X_comp = pad_sequences(X_comp, maxlen=MAX_SENT_LEN, padding='post', truncating='post')\n",
        "y_comp = comp['Stance']\n",
        "y_comp = y_comp.values"
      ],
      "execution_count": null,
      "outputs": []
    },
    {
      "cell_type": "code",
      "metadata": {
        "id": "L1VdlcSrnp3j",
        "colab_type": "code",
        "colab": {}
      },
      "source": [
        "encoder_comp = LabelEncoder()\n",
        "encoder_comp.fit(y_comp)\n",
        "encoded_comp = encoder_comp.transform(y_comp)\n",
        "dummy_y_comp = np_utils.to_categorical(encoded_comp)"
      ],
      "execution_count": null,
      "outputs": []
    },
    {
      "cell_type": "code",
      "metadata": {
        "id": "f-d1HYYZnsFq",
        "colab_type": "code",
        "colab": {
          "base_uri": "https://localhost:8080/",
          "height": 34
        },
        "outputId": "b704125f-37c0-483a-e1c0-d15fd1f4c8c5"
      },
      "source": [
        "y_Uni = model.predict(X_comp)\n",
        "score,acc = model.evaluate(X_comp, dummy_y_comp)\n"
      ],
      "execution_count": null,
      "outputs": [
        {
          "output_type": "stream",
          "text": [
            "25413/25413 [==============================] - 44s 2ms/step\n"
          ],
          "name": "stdout"
        }
      ]
    },
    {
      "cell_type": "code",
      "metadata": {
        "id": "p7wzysXInvEC",
        "colab_type": "code",
        "colab": {
          "base_uri": "https://localhost:8080/"
        },
        "outputId": "d894fa94-806a-4d46-f00b-dc58ee5273ef"
      },
      "source": [
        "from score import report_score\n",
        "outputs = [np.argmax(p) for p in y_Uni]\n",
        "\n",
        "for i in range(len(outputs)):\n",
        "    if outputs[i] == 0: outputs[i] = \"unrelated\"\n",
        "    if outputs[i] == 1: outputs[i] = \"disagree\"\n",
        "    if outputs[i] == 2: outputs[i] = \"agree\"\n",
        "    if outputs[i] == 3: outputs[i] = \"discuss\"\n",
        "#print (np.unique(outputs))\n",
        "\n",
        "cs = pd.read_csv(DATA_DIR+'competition_test_stances.csv')\n",
        "stance_true = cs['Stance'].values\n",
        "from score import report_score\n",
        "print (\"Weighted Score\")\n",
        "report_score(stance_true, outputs)\n",
        "\n",
        "Predicted = {}\n",
        "Predicted = pd.DataFrame({'Stance': outputs})\n",
        "result = pd.concat([competetion_unlabeled, Predicted], axis=1, sort=False)\n",
        "result.to_csv('submission_LSTM_Glove.csv', index=False, encoding='utf-8')"
      ],
      "execution_count": null,
      "outputs": [
        {
          "output_type": "stream",
          "text": [
            "Weighted Score\n",
            "-------------------------------------------------------------\n",
            "|           |   agree   | disagree  |  discuss  | unrelated |\n",
            "-------------------------------------------------------------\n",
            "|   agree   |     0     |    27     |    51     |   1825    |\n",
            "-------------------------------------------------------------\n",
            "| disagree  |     0     |     9     |    17     |    671    |\n",
            "-------------------------------------------------------------\n",
            "|  discuss  |     0     |    54     |    65     |   4345    |\n",
            "-------------------------------------------------------------\n",
            "| unrelated |     0     |    215    |    295    |   17839   |\n",
            "-------------------------------------------------------------\n",
            "Score: 4571.0 out of 11651.25\t(39.231842077030365%)\n"
          ],
          "name": "stdout"
        }
      ]
    },
    {
      "cell_type": "code",
      "metadata": {
        "id": "9mPVmWzqBvh-",
        "colab_type": "code",
        "colab": {}
      },
      "source": [
        "np.save('my_history.npy',history.history)"
      ],
      "execution_count": null,
      "outputs": []
    },
    {
      "cell_type": "code",
      "metadata": {
        "id": "RIC-qBDqCApC",
        "colab_type": "code",
        "colab": {}
      },
      "source": [
        "history=np.load('my_history.npy',allow_pickle='TRUE').item()"
      ],
      "execution_count": null,
      "outputs": []
    },
    {
      "cell_type": "code",
      "metadata": {
        "id": "vfI6nAFYCHbZ",
        "colab_type": "code",
        "colab": {}
      },
      "source": [
        "file1 = open('LSTM_glove', 'rb')\n",
        "history1 = pickle.load(file1)\n",
        "file1.close()"
      ],
      "execution_count": null,
      "outputs": []
    },
    {
      "cell_type": "code",
      "metadata": {
        "id": "_Kj66CgiCsHE",
        "colab_type": "code",
        "colab": {
          "base_uri": "https://localhost:8080/",
          "height": 554
        },
        "outputId": "2cff94f0-a554-4981-a3c6-97eb41521545"
      },
      "source": [
        "fig = plt.figure(figsize=(10,9))\n",
        "ax = fig.add_subplot(111)\n",
        "ax.plot(history1['val_accuracy'])"
      ],
      "execution_count": null,
      "outputs": [
        {
          "output_type": "execute_result",
          "data": {
            "text/plain": [
              "[<matplotlib.lines.Line2D at 0x7f4e34551198>]"
            ]
          },
          "metadata": {
            "tags": []
          },
          "execution_count": 34
        },
        {
          "output_type": "display_data",
          "data": {
            "image/png": "[encoded data removed]",
            "text/plain": [
              "<Figure size 720x648 with 1 Axes>"
            ]
          },
          "metadata": {
            "tags": [],
            "needs_background": "light"
          }
        }
      ]
    },
    {
      "cell_type": "code",
      "metadata": {
        "id": "dBwOlQ5bSm13",
        "colab_type": "code",
        "colab": {
          "base_uri": "https://localhost:8080/",
          "height": 84
        },
        "outputId": "be0b96bc-dcaf-4e5a-b233-57b0a9bc27fa"
      },
      "source": [
        "from sklearn.metrics import accuracy_score\n",
        "from sklearn.metrics import precision_score\n",
        "from sklearn.metrics import recall_score\n",
        "from sklearn.metrics import f1_score\n",
        "from sklearn.metrics import cohen_kappa_score\n",
        "from sklearn.metrics import roc_auc_score\n",
        "\n",
        "accuracy = accuracy_score(stance_true, outputs)\n",
        "print('Accuracy: %f' % accuracy)\n",
        "# precision tp / (tp + fp)\n",
        "precision = precision_score(stance_true, outputs, average='weighted')\n",
        "print('Precision: %f' % precision)\n",
        "# recall: tp / (tp + fn)\n",
        "recall = recall_score(stance_true, outputs,average='weighted')\n",
        "print('Recall: %f' % recall)\n",
        "# f1: 2 tp / (2 tp + fp + fn)\n",
        "f1 = f1_score(stance_true, outputs, average='weighted')\n",
        "print('F1 score: %f' % f1)"
      ],
      "execution_count": null,
      "outputs": [
        {
          "output_type": "stream",
          "text": [
            "Accuracy: 0.704875\n",
            "Precision: 0.549380\n",
            "Recall: 0.704875\n",
            "F1 score: 0.603842\n"
          ],
          "name": "stdout"
        }
      ]
    }
  ]
}